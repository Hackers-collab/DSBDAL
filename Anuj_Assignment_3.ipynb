{
 "cells": [
  {
   "cell_type": "code",
   "execution_count": 1,
   "id": "9ebbae6a-c837-435d-8c66-bd49b9eb207b",
   "metadata": {},
   "outputs": [],
   "source": [
    "import numpy as np\n",
    "import pandas as pd"
   ]
  },
  {
   "cell_type": "markdown",
   "id": "6e9daf8d-e3f1-49bc-8111-33cd5fcf160b",
   "metadata": {},
   "source": [
    "## **Summary statastics grouped by categorical variable** ##"
   ]
  },
  {
   "cell_type": "code",
   "execution_count": 26,
   "id": "5132471b-bc95-4df2-9aad-2223fdbd98b2",
   "metadata": {},
   "outputs": [
    {
     "name": "stdout",
     "output_type": "stream",
     "text": [
      "Summary Statastics\n",
      "              mean   median    min    max           std\n",
      "Age_Group                                              \n",
      "20-29      40000.0  40000.0  30000  50000  14142.135624\n",
      "30-39      50000.0  50000.0  40000  60000  14142.135624\n",
      "40-49      55000.0  55000.0  40000  70000  21213.203436\n",
      "Income By Group\n",
      "Age_Group\n",
      "20-29    [30000, 50000]\n",
      "30-39    [40000, 60000]\n",
      "40-49    [70000, 40000]\n",
      "Name: Income, dtype: object\n"
     ]
    }
   ],
   "source": [
    "# Sample Data\n",
    "data = {\n",
    "    'Name': ['Anuj', 'Abhshek', 'Yash', 'Rahul', 'Krishna', 'Priyanshu'],\n",
    "    'Age_Group': ['20-29', '30-39', '20-29', '30-39', '40-49', '40-49'],\n",
    "    'Income': [30000, 40000, 50000, 60000, 70000, 40000]\n",
    "}\n",
    "\n",
    "df = pd.DataFrame(data)\n",
    "\n",
    "# Group by age and calculate statastics\n",
    "summary_stat = df.groupby('Age_Group')['Income'].agg(['mean', 'median', 'min', 'max', 'std'])\n",
    "\n",
    "# Income By Group\n",
    "income_by_group = df.groupby('Age_Group')['Income'].apply(list)\n",
    "\n",
    "print(\"Summary Statastics\")\n",
    "print(summary_stat)\n",
    "\n",
    "\n",
    "print(\"Income By Group\")\n",
    "print(income_by_group)"
   ]
  },
  {
   "cell_type": "markdown",
   "id": "060cb770-a83e-44fb-8617-8d9b02e62ecc",
   "metadata": {},
   "source": [
    "## **Statastical Species for IRIS datast** ##"
   ]
  },
  {
   "cell_type": "code",
   "execution_count": 53,
   "id": "510529c6-04c7-4aa6-9baa-829fb100d3ea",
   "metadata": {},
   "outputs": [
    {
     "name": "stdout",
     "output_type": "stream",
     "text": [
      "Statastical For Iris-setosa\n",
      "       sepal_length  sepal_width  petal_length  petal_width\n",
      "count      50.00000    50.000000     50.000000     50.00000\n",
      "mean        5.00600     3.418000      1.464000      0.24400\n",
      "std         0.35249     0.381024      0.173511      0.10721\n",
      "min         4.30000     2.300000      1.000000      0.10000\n",
      "25%         4.80000     3.125000      1.400000      0.20000\n",
      "50%         5.00000     3.400000      1.500000      0.20000\n",
      "75%         5.20000     3.675000      1.575000      0.30000\n",
      "max         5.80000     4.400000      1.900000      0.60000\n",
      "Statastical For Iris-versicolor\n",
      "       sepal_length  sepal_width  petal_length  petal_width\n",
      "count     50.000000    50.000000     50.000000    50.000000\n",
      "mean       5.936000     2.770000      4.260000     1.326000\n",
      "std        0.516171     0.313798      0.469911     0.197753\n",
      "min        4.900000     2.000000      3.000000     1.000000\n",
      "25%        5.600000     2.525000      4.000000     1.200000\n",
      "50%        5.900000     2.800000      4.350000     1.300000\n",
      "75%        6.300000     3.000000      4.600000     1.500000\n",
      "max        7.000000     3.400000      5.100000     1.800000\n",
      "Statastical For Iris-virginica\n",
      "       sepal_length  sepal_width  petal_length  petal_width\n",
      "count      50.00000    50.000000     50.000000     50.00000\n",
      "mean        6.58800     2.974000      5.552000      2.02600\n",
      "std         0.63588     0.322497      0.551895      0.27465\n",
      "min         4.90000     2.200000      4.500000      1.40000\n",
      "25%         6.22500     2.800000      5.100000      1.80000\n",
      "50%         6.50000     3.000000      5.550000      2.00000\n",
      "75%         6.90000     3.175000      5.875000      2.30000\n",
      "max         7.90000     3.800000      6.900000      2.50000\n"
     ]
    }
   ],
   "source": [
    "iris_df = pd.read_csv('./data/iris.csv')\n",
    "iris_df\n",
    "\n",
    "\n",
    "species_list = ['setosa', 'versicolor', 'virginica']\n",
    "\n",
    "for species in species_list:\n",
    "    print(f\"Statastical For Iris-{species}\")\n",
    "    subset = iris_df[iris_df['species'] == species]\n",
    "    print(subset.describe())\n",
    "    \n",
    "\n"
   ]
  },
  {
   "cell_type": "code",
   "execution_count": null,
   "id": "c86ceaf8-a33d-4dce-8e71-2b7ceafb0711",
   "metadata": {},
   "outputs": [],
   "source": []
  }
 ],
 "metadata": {
  "kernelspec": {
   "display_name": "Python [conda env:base] *",
   "language": "python",
   "name": "conda-base-py"
  },
  "language_info": {
   "codemirror_mode": {
    "name": "ipython",
    "version": 3
   },
   "file_extension": ".py",
   "mimetype": "text/x-python",
   "name": "python",
   "nbconvert_exporter": "python",
   "pygments_lexer": "ipython3",
   "version": "3.12.7"
  }
 },
 "nbformat": 4,
 "nbformat_minor": 5
}
