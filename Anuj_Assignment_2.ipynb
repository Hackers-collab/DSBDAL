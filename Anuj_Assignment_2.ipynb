{
 "cells": [
  {
   "cell_type": "code",
   "execution_count": 1,
   "id": "9e80b717-bcc1-4da1-bdb7-b110e7a1633e",
   "metadata": {},
   "outputs": [],
   "source": [
    "import numpy as np\n",
    "import pandas as pd"
   ]
  },
  {
   "cell_type": "code",
   "execution_count": 2,
   "id": "43dbd9b3-5487-4043-a324-34eb61eff180",
   "metadata": {},
   "outputs": [
    {
     "data": {
      "text/html": [
       "<div>\n",
       "<style scoped>\n",
       "    .dataframe tbody tr th:only-of-type {\n",
       "        vertical-align: middle;\n",
       "    }\n",
       "\n",
       "    .dataframe tbody tr th {\n",
       "        vertical-align: top;\n",
       "    }\n",
       "\n",
       "    .dataframe thead th {\n",
       "        text-align: right;\n",
       "    }\n",
       "</style>\n",
       "<table border=\"1\" class=\"dataframe\">\n",
       "  <thead>\n",
       "    <tr style=\"text-align: right;\">\n",
       "      <th></th>\n",
       "      <th>Maths</th>\n",
       "      <th>Science</th>\n",
       "      <th>English</th>\n",
       "      <th>Attendance</th>\n",
       "      <th>Parental_Education_Level</th>\n",
       "    </tr>\n",
       "    <tr>\n",
       "      <th>StudentID</th>\n",
       "      <th></th>\n",
       "      <th></th>\n",
       "      <th></th>\n",
       "      <th></th>\n",
       "      <th></th>\n",
       "    </tr>\n",
       "  </thead>\n",
       "  <tbody>\n",
       "    <tr>\n",
       "      <th>1</th>\n",
       "      <td>78.0</td>\n",
       "      <td>88.0</td>\n",
       "      <td>NaN</td>\n",
       "      <td>90</td>\n",
       "      <td>Bachelor</td>\n",
       "    </tr>\n",
       "    <tr>\n",
       "      <th>2</th>\n",
       "      <td>85.0</td>\n",
       "      <td>91.0</td>\n",
       "      <td>80.0</td>\n",
       "      <td>85</td>\n",
       "      <td>Master</td>\n",
       "    </tr>\n",
       "    <tr>\n",
       "      <th>3</th>\n",
       "      <td>NaN</td>\n",
       "      <td>85.0</td>\n",
       "      <td>70.0</td>\n",
       "      <td>80</td>\n",
       "      <td>PhD</td>\n",
       "    </tr>\n",
       "    <tr>\n",
       "      <th>4</th>\n",
       "      <td>95.0</td>\n",
       "      <td>NaN</td>\n",
       "      <td>75.0</td>\n",
       "      <td>75</td>\n",
       "      <td>Bachelor</td>\n",
       "    </tr>\n",
       "    <tr>\n",
       "      <th>5</th>\n",
       "      <td>105.0</td>\n",
       "      <td>89.0</td>\n",
       "      <td>65.0</td>\n",
       "      <td>70</td>\n",
       "      <td>Master</td>\n",
       "    </tr>\n",
       "    <tr>\n",
       "      <th>6</th>\n",
       "      <td>65.0</td>\n",
       "      <td>65.0</td>\n",
       "      <td>60.0</td>\n",
       "      <td>65</td>\n",
       "      <td>Bachelor</td>\n",
       "    </tr>\n",
       "    <tr>\n",
       "      <th>7</th>\n",
       "      <td>72.0</td>\n",
       "      <td>70.0</td>\n",
       "      <td>100.0</td>\n",
       "      <td>60</td>\n",
       "      <td>High School</td>\n",
       "    </tr>\n",
       "    <tr>\n",
       "      <th>8</th>\n",
       "      <td>89.0</td>\n",
       "      <td>75.0</td>\n",
       "      <td>98.0</td>\n",
       "      <td>55</td>\n",
       "      <td>High School</td>\n",
       "    </tr>\n",
       "    <tr>\n",
       "      <th>9</th>\n",
       "      <td>90.0</td>\n",
       "      <td>78.0</td>\n",
       "      <td>85.0</td>\n",
       "      <td>100</td>\n",
       "      <td>NaN</td>\n",
       "    </tr>\n",
       "    <tr>\n",
       "      <th>10</th>\n",
       "      <td>300.0</td>\n",
       "      <td>80.0</td>\n",
       "      <td>90.0</td>\n",
       "      <td>95</td>\n",
       "      <td>PhD</td>\n",
       "    </tr>\n",
       "  </tbody>\n",
       "</table>\n",
       "</div>"
      ],
      "text/plain": [
       "           Maths  Science  English  Attendance Parental_Education_Level\n",
       "StudentID                                                              \n",
       "1           78.0     88.0      NaN          90                 Bachelor\n",
       "2           85.0     91.0     80.0          85                   Master\n",
       "3            NaN     85.0     70.0          80                      PhD\n",
       "4           95.0      NaN     75.0          75                 Bachelor\n",
       "5          105.0     89.0     65.0          70                   Master\n",
       "6           65.0     65.0     60.0          65                 Bachelor\n",
       "7           72.0     70.0    100.0          60              High School\n",
       "8           89.0     75.0     98.0          55              High School\n",
       "9           90.0     78.0     85.0         100                      NaN\n",
       "10         300.0     80.0     90.0          95                      PhD"
      ]
     },
     "execution_count": 2,
     "metadata": {},
     "output_type": "execute_result"
    }
   ],
   "source": [
    "data = {\n",
    "    'StudentID': range(1, 11),\n",
    "    'Maths': [78, 85, np.nan, 95, 105, 65, 72, 89, 90, 300], # 300 is an outlier\n",
    "    'Science':[88, 91, 85, np.nan, 89, 65, 70, 75, 78, 80],\n",
    "    'English':[np.nan, 80, 70, 75, 65, 60, 100, 98, 85, 90],\n",
    "    'Attendance': [90, 85, 80, 75, 70, 65, 60, 55, 100, 95],\n",
    "    'Parental_Education_Level': ['Bachelor', 'Master', 'PhD', 'Bachelor', 'Master', 'Bachelor',\n",
    "                                 'High School', 'High School', np.nan, 'PhD'],\n",
    "}\n",
    "df = pd.DataFrame(data)\n",
    "\n",
    "df.set_index('StudentID', inplace=True)\n",
    "\n",
    "df\n",
    "    "
   ]
  },
  {
   "cell_type": "markdown",
   "id": "264200b8-ba71-4348-a930-9e3ac79e1a53",
   "metadata": {},
   "source": [
    "## **Scanning for missing values and inconsistencies** ##"
   ]
  },
  {
   "cell_type": "code",
   "execution_count": 4,
   "id": "c23e914e-3541-4276-bcd6-bc62871d9690",
   "metadata": {},
   "outputs": [
    {
     "name": "stdout",
     "output_type": "stream",
     "text": [
      "Missing Values:\n",
      " Maths                       1\n",
      "Science                     1\n",
      "English                     1\n",
      "Attendance                  0\n",
      "Parental_Education_Level    1\n",
      "dtype: int64\n"
     ]
    }
   ],
   "source": [
    "print(\"Missing Values:\\n\", df.isnull().sum())"
   ]
  },
  {
   "cell_type": "markdown",
   "id": "10dcf5c9-2a31-488b-bc36-0c72ae440b8e",
   "metadata": {},
   "source": [
    "**Handling the missing values**\n",
    "- Numeric cols -> mean imputation\n",
    "- Categorical cols -> mode imputation"
   ]
  },
  {
   "cell_type": "code",
   "execution_count": 6,
   "id": "286240d8-1193-46d6-883f-f20da24e379a",
   "metadata": {},
   "outputs": [
    {
     "data": {
      "text/html": [
       "<div>\n",
       "<style scoped>\n",
       "    .dataframe tbody tr th:only-of-type {\n",
       "        vertical-align: middle;\n",
       "    }\n",
       "\n",
       "    .dataframe tbody tr th {\n",
       "        vertical-align: top;\n",
       "    }\n",
       "\n",
       "    .dataframe thead th {\n",
       "        text-align: right;\n",
       "    }\n",
       "</style>\n",
       "<table border=\"1\" class=\"dataframe\">\n",
       "  <thead>\n",
       "    <tr style=\"text-align: right;\">\n",
       "      <th></th>\n",
       "      <th>Maths</th>\n",
       "      <th>Science</th>\n",
       "      <th>English</th>\n",
       "      <th>Attendance</th>\n",
       "      <th>Parental_Education_Level</th>\n",
       "    </tr>\n",
       "    <tr>\n",
       "      <th>StudentID</th>\n",
       "      <th></th>\n",
       "      <th></th>\n",
       "      <th></th>\n",
       "      <th></th>\n",
       "      <th></th>\n",
       "    </tr>\n",
       "  </thead>\n",
       "  <tbody>\n",
       "    <tr>\n",
       "      <th>1</th>\n",
       "      <td>78.0</td>\n",
       "      <td>88.0</td>\n",
       "      <td>NaN</td>\n",
       "      <td>90</td>\n",
       "      <td>Bachelor</td>\n",
       "    </tr>\n",
       "    <tr>\n",
       "      <th>2</th>\n",
       "      <td>85.0</td>\n",
       "      <td>91.0</td>\n",
       "      <td>80.0</td>\n",
       "      <td>85</td>\n",
       "      <td>Master</td>\n",
       "    </tr>\n",
       "    <tr>\n",
       "      <th>3</th>\n",
       "      <td>NaN</td>\n",
       "      <td>85.0</td>\n",
       "      <td>70.0</td>\n",
       "      <td>80</td>\n",
       "      <td>PhD</td>\n",
       "    </tr>\n",
       "    <tr>\n",
       "      <th>4</th>\n",
       "      <td>95.0</td>\n",
       "      <td>NaN</td>\n",
       "      <td>75.0</td>\n",
       "      <td>75</td>\n",
       "      <td>Bachelor</td>\n",
       "    </tr>\n",
       "    <tr>\n",
       "      <th>5</th>\n",
       "      <td>105.0</td>\n",
       "      <td>89.0</td>\n",
       "      <td>65.0</td>\n",
       "      <td>70</td>\n",
       "      <td>Master</td>\n",
       "    </tr>\n",
       "    <tr>\n",
       "      <th>6</th>\n",
       "      <td>65.0</td>\n",
       "      <td>65.0</td>\n",
       "      <td>60.0</td>\n",
       "      <td>65</td>\n",
       "      <td>Bachelor</td>\n",
       "    </tr>\n",
       "    <tr>\n",
       "      <th>7</th>\n",
       "      <td>72.0</td>\n",
       "      <td>70.0</td>\n",
       "      <td>100.0</td>\n",
       "      <td>60</td>\n",
       "      <td>High School</td>\n",
       "    </tr>\n",
       "    <tr>\n",
       "      <th>8</th>\n",
       "      <td>89.0</td>\n",
       "      <td>75.0</td>\n",
       "      <td>98.0</td>\n",
       "      <td>55</td>\n",
       "      <td>High School</td>\n",
       "    </tr>\n",
       "    <tr>\n",
       "      <th>9</th>\n",
       "      <td>90.0</td>\n",
       "      <td>78.0</td>\n",
       "      <td>85.0</td>\n",
       "      <td>100</td>\n",
       "      <td>NaN</td>\n",
       "    </tr>\n",
       "    <tr>\n",
       "      <th>10</th>\n",
       "      <td>300.0</td>\n",
       "      <td>80.0</td>\n",
       "      <td>90.0</td>\n",
       "      <td>95</td>\n",
       "      <td>PhD</td>\n",
       "    </tr>\n",
       "  </tbody>\n",
       "</table>\n",
       "</div>"
      ],
      "text/plain": [
       "           Maths  Science  English  Attendance Parental_Education_Level\n",
       "StudentID                                                              \n",
       "1           78.0     88.0      NaN          90                 Bachelor\n",
       "2           85.0     91.0     80.0          85                   Master\n",
       "3            NaN     85.0     70.0          80                      PhD\n",
       "4           95.0      NaN     75.0          75                 Bachelor\n",
       "5          105.0     89.0     65.0          70                   Master\n",
       "6           65.0     65.0     60.0          65                 Bachelor\n",
       "7           72.0     70.0    100.0          60              High School\n",
       "8           89.0     75.0     98.0          55              High School\n",
       "9           90.0     78.0     85.0         100                      NaN\n",
       "10         300.0     80.0     90.0          95                      PhD"
      ]
     },
     "execution_count": 6,
     "metadata": {},
     "output_type": "execute_result"
    }
   ],
   "source": [
    "# Filling the missing values with mean\n",
    "df['Maths'].fillna(df['Maths'].mean())\n",
    "df['Science'].fillna(df['Science'].mean())\n",
    "df['English'].fillna(df['English'].mean())\n",
    "\n",
    "# Filling categorical misssing values with mode\n",
    "df['Parental_Education_Level'].fillna(df['Parental_Education_Level'].mode()[0])\n",
    "\n",
    "df"
   ]
  },
  {
   "cell_type": "markdown",
   "id": "061dc0e0-bf56-440a-a7d7-f9d9e26ad579",
   "metadata": {},
   "source": [
    "## **Handling Outlier** ##"
   ]
  },
  {
   "cell_type": "code",
   "execution_count": null,
   "id": "ef3ceaa8-d0da-499c-86bb-3aee86e546cf",
   "metadata": {},
   "outputs": [
    {
     "name": "stdout",
     "output_type": "stream",
     "text": [
      "Outliers in Math Score:\n",
      " StudentID\n",
      "10    300.0\n",
      "Name: Maths, dtype: float64\n"
     ]
    }
   ],
   "source": [
    "def detect_outliers_iqr(column):\n",
    "    Q1 = column.quantile(0.25)\n",
    "    Q3 = column.quantile(0.75)\n",
    "    IQR = Q3 - Q1\n",
    "    lower = Q1 - 1.5 * IQR\n",
    "    upper = Q3 + 1.5 * IQR\n",
    "    return column[(column < lower) | (column > upper)]\n",
    "\n",
    "outliers_math = detect_outliers_iqr(df['Maths'])\n",
    "print(\"Outliers in Math Score:\\n\", outliers_math)\n",
    "\n",
    "\n",
    "\n",
    "def detect_outliers_iqr(column):\n",
    "    Q1 = column.quantile(0.25)\n",
    "    Q3 = column.quantile(0.75)\n",
    "    IQR = Q3 - Q1\n",
    "    lower = Q1 - 1.5 * IQR\n",
    "    upper = Q3 + 1.5 * IQR\n",
    "    return column[(column < lower) | (column > upper)]\n",
    "\n",
    "outliers_math = detect_outliers_iqr(df['Maths'])\n",
    "print(\"Outliers in Math Score:\", outliers_math)"
   ]
  },
  {
   "cell_type": "code",
   "execution_count": 9,
   "id": "3ebbbb06-fc53-4ebb-8a5b-14a243c65301",
   "metadata": {},
   "outputs": [],
   "source": [
    "# Handling outlier via Winsorization method\n",
    "def winsorize_series(column):\n",
    "    Q1 = column.quantile(0.25)\n",
    "    Q3 = column.quantile(0.75)\n",
    "    IQR = Q3 - Q1\n",
    "    lower = Q1 - 1.5 * IQR\n",
    "    upper = Q3 + 1.5 * IQR\n",
    "    return column.clip(lower, upper)\n",
    "\n",
    "df['Maths'] = winsorize_series(df['Maths'])\n",
    "\n",
    "\n"
   ]
  },
  {
   "cell_type": "code",
   "execution_count": 10,
   "id": "1e8fbf05-23e7-4d0f-bc67-516bb76c4172",
   "metadata": {},
   "outputs": [
    {
     "name": "stdout",
     "output_type": "stream",
     "text": [
      "Series([], Name: Maths, dtype: float64)\n"
     ]
    }
   ],
   "source": [
    "print(detect_outliers_iqr(df['Maths']))"
   ]
  },
  {
   "cell_type": "code",
   "execution_count": 31,
   "id": "c13d5fe9-c5fb-4224-8c23-793f5e05de2b",
   "metadata": {},
   "outputs": [
    {
     "data": {
      "text/plain": [
       "0.0"
      ]
     },
     "execution_count": 31,
     "metadata": {},
     "output_type": "execute_result"
    }
   ],
   "source": [
    "df['Attendance'].skew()"
   ]
  },
  {
   "cell_type": "markdown",
   "id": "f2b9f9cd-7029-4b42-8105-3b4755b0477a",
   "metadata": {},
   "source": [
    "## **Data Transformation** ##"
   ]
  },
  {
   "cell_type": "markdown",
   "id": "eaa1436a-799a-4ecc-8ead-136bb5f2ae7f",
   "metadata": {},
   "source": [
    "Attendance is **right-skewed**, and we want to normalize it using **log transformation**"
   ]
  },
  {
   "cell_type": "code",
   "execution_count": 14,
   "id": "2331e39a-e96d-4834-9622-413b73f60933",
   "metadata": {},
   "outputs": [
    {
     "data": {
      "image/png": "[encoded data removed]",
      "text/plain": [
       "<Figure size 640x480 with 1 Axes>"
      ]
     },
     "metadata": {},
     "output_type": "display_data"
    }
   ],
   "source": [
    "import matplotlib.pyplot as plt\n",
    "import seaborn as sns\n",
    "\n",
    "# Plot orignal Attendance distribution\n",
    "sns.histplot(df['Attendance'], kde=True)\n",
    "plt.title(\"Orignal Attendance Distribution\")\n",
    "plt.show()"
   ]
  },
  {
   "cell_type": "code",
   "execution_count": 15,
   "id": "19650a6e-9055-4f96-a09e-ccdb8c13b887",
   "metadata": {},
   "outputs": [
    {
     "data": {
      "image/png": "[encoded data removed]",
      "text/plain": [
       "<Figure size 640x480 with 1 Axes>"
      ]
     },
     "metadata": {},
     "output_type": "display_data"
    }
   ],
   "source": [
    "# Apply log transformation\n",
    "df['Log_Attendance'] = np.log(df['Attendance'])\n",
    "\n",
    "# Plot tranformed\n",
    "sns.histplot(df['Log_Attendance'], kde=True)\n",
    "plt.title(\"Log Transformed Attendance Distribution\")\n",
    "plt.show()"
   ]
  },
  {
   "cell_type": "code",
   "execution_count": null,
   "id": "5701d0fc-b72b-4000-9c68-3d8250cf6cbc",
   "metadata": {},
   "outputs": [],
   "source": []
  }
 ],
 "metadata": {
  "kernelspec": {
   "display_name": "Python [conda env:base] *",
   "language": "python",
   "name": "conda-base-py"
  },
  "language_info": {
   "codemirror_mode": {
    "name": "ipython",
    "version": 3
   },
   "file_extension": ".py",
   "mimetype": "text/x-python",
   "name": "python",
   "nbconvert_exporter": "python",
   "pygments_lexer": "ipython3",
   "version": "3.12.7"
  }
 },
 "nbformat": 4,
 "nbformat_minor": 5
}
