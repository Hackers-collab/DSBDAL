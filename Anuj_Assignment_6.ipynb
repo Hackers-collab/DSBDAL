{
 "cells": [
  {
   "cell_type": "code",
   "execution_count": 1,
   "id": "0ea53a8c-ab36-43c0-a26c-e6107e3f1ab3",
   "metadata": {},
   "outputs": [],
   "source": [
    "import pandas as pd\n",
    "\n",
    "from sklearn.model_selection import train_test_split\n",
    "from sklearn.naive_bayes import GaussianNB\n",
    "from sklearn.metrics import confusion_matrix, accuracy_score, precision_score, recall_score\n"
   ]
  },
  {
   "cell_type": "code",
   "execution_count": null,
   "id": "7fd2232d-3a71-4927-a974-a346b449aa2a",
   "metadata": {
    "scrolled": true
   },
   "outputs": [],
   "source": [
    "# Load the dataset \n",
    "iris_df = pd.read_csv('./data/iris.csv')\n",
    "\n",
    "iris_df.head()"
   ]
  },
  {
   "cell_type": "markdown",
   "id": "7cc0753d-f736-41cf-b339-e8ac5ae63f7c",
   "metadata": {},
   "source": [
    "### **Data Preprocessing** ###"
   ]
  },
  {
   "cell_type": "code",
   "execution_count": 10,
   "id": "3f4e3434-142c-497e-911f-f7f7b78869e6",
   "metadata": {},
   "outputs": [],
   "source": [
    "# Features and target\n",
    "X = iris_df.iloc[:, :-1] # All columns except the last (featrues)\n",
    "y = iris_df.iloc[:, -1] # Last column (target/label)\n",
    "\n",
    "# Split into train and test sets (80% train, 20% train)\n",
    "X_train, X_test, y_train, y_test = train_test_split(X, y, test_size=0.2, random_state=42)"
   ]
  },
  {
   "cell_type": "markdown",
   "id": "095ab393-cd24-4663-ab1a-0bbd24f63e32",
   "metadata": {},
   "source": [
    "### **Train Navive Bayes Model** ###"
   ]
  },
  {
   "cell_type": "code",
   "execution_count": 18,
   "id": "453ac5c0-c9df-400d-a4be-a51a8cb6ed02",
   "metadata": {},
   "outputs": [],
   "source": [
    "# Inlitialize and train naive bayes classifier\n",
    "model = GaussianNB()\n",
    "model.fit(X_train, y_train)\n",
    "\n",
    "# Predict on test data\n",
    "y_pred = model.predict(X_test)"
   ]
  },
  {
   "cell_type": "code",
   "execution_count": 22,
   "id": "be51eac9-a951-4ef3-96f3-dd5f73d60ac1",
   "metadata": {},
   "outputs": [
    {
     "name": "stdout",
     "output_type": "stream",
     "text": [
      "Confusion Matrix:\n",
      "            setosa  versicolor  virginica\n",
      "setosa          10           0          0\n",
      "versicolor       0           9          0\n",
      "virginica        0           0         11\n",
      "\n",
      "Accuracy: 1.00\n",
      "Error Rate: 0.00\n",
      "Precision (macro): 1.00\n",
      "Recall (macro): 1.00\n"
     ]
    }
   ],
   "source": [
    "# Get confusion matrix\n",
    "cm = confusion_matrix(y_test, y_pred, labels=model.classes_)\n",
    "\n",
    "print(\"Confusion Matrix:\")\n",
    "print(pd.DataFrame(cm, index=model.classes_, columns=model.classes_))\n",
    "\n",
    "# Calculate metrics (assuming binary classification for individual class analysis)\n",
    "# For multi-class, we compute metrics in a macro/micro/weighted way\n",
    "\n",
    "accuracy = accuracy_score(y_test, y_pred)\n",
    "precision = precision_score(y_test, y_pred, average='macro')  # average='macro' for multiclass\n",
    "recall = recall_score(y_test, y_pred, average='macro')\n",
    "error_rate = 1 - accuracy\n",
    "\n",
    "print(f\"\\nAccuracy: {accuracy:.2f}\")\n",
    "print(f\"Error Rate: {error_rate:.2f}\")\n",
    "print(f\"Precision (macro): {precision:.2f}\")\n",
    "print(f\"Recall (macro): {recall:.2f}\")\n"
   ]
  },
  {
   "cell_type": "markdown",
   "id": "1b26d443-6c40-427e-8920-4b916f34a0ae",
   "metadata": {},
   "source": [
    "For the above we use `average=macro`\n",
    "- Calculate precision and recall for each class individually\n",
    "- Then take the average of all the calsses - treating all classes equally"
   ]
  },
  {
   "cell_type": "code",
   "execution_count": 28,
   "id": "c61064db-d566-438e-8367-7b47604c3311",
   "metadata": {},
   "outputs": [
    {
     "data": {
      "image/png": "[encoded data removed]",
      "text/plain": [
       "<Figure size 600x400 with 2 Axes>"
      ]
     },
     "metadata": {},
     "output_type": "display_data"
    }
   ],
   "source": [
    "import matplotlib.pyplot as plt\n",
    "import seaborn as sns\n",
    "\n",
    "plt.figure(figsize=(6, 4))\n",
    "sns.heatmap(cm, annot=True, fmt='d', cmap='Blues', xticklabels=model.classes_, yticklabels=model.classes_)\n",
    "plt.title(\"Confusion Matrix Heatmap\")\n",
    "plt.xlabel(\"Predicted\")\n",
    "plt.ylabel(\"Actual\")\n",
    "plt.tight_layout()\n",
    "plt.show()"
   ]
  },
  {
   "cell_type": "markdown",
   "id": "7a050005-49b7-4728-a62a-7591e9074d98",
   "metadata": {},
   "source": [
    "From the graph we can say that \n",
    "- Diagonal represents the TP\n",
    "- the other two col represents the FP, FN\n",
    "  - e.g setosa [10 - TP, 0 - FP, 0 - FN]\n",
    "\n",
    "- TN is the addition of other two TP\n",
    "  e. for setosa TN = 9 + 11 = 20\n"
   ]
  },
  {
   "cell_type": "code",
   "execution_count": 38,
   "id": "b39d2e9c-42e4-47fd-bfff-935aaa2dbf88",
   "metadata": {},
   "outputs": [
    {
     "name": "stdout",
     "output_type": "stream",
     "text": [
      "\n",
      "For class 'setosa':\n",
      "TP = 10, FP = 0, FN = 0, TN = 20\n",
      "\n",
      "For class 'versicolor':\n",
      "TP = 9, FP = 0, FN = 0, TN = 21\n",
      "\n",
      "For class 'virginica':\n",
      "TP = 11, FP = 0, FN = 0, TN = 19\n"
     ]
    }
   ],
   "source": [
    "def get_tp_fp_fn_tn(cm, class_index):\n",
    "    TP = cm[class_index, class_index]\n",
    "    FP = cm[:, class_index].sum() - TP\n",
    "    FN = cm[class_index, :].sum() - TP\n",
    "    TN = cm.sum() - (TP + FP + FN)\n",
    "    return TP, FP, FN, TN\n",
    "\n",
    "# Example for class index 1 (versicolor)\n",
    "for i in range(3):\n",
    "    \n",
    "    TP, FP, FN, TN = get_tp_fp_fn_tn(cm, class_index=i)\n",
    "    print(f\"\\nFor class '{model.classes_[i]}':\")\n",
    "    print(f\"TP = {TP}, FP = {FP}, FN = {FN}, TN = {TN}\")\n"
   ]
  },
  {
   "cell_type": "code",
   "execution_count": null,
   "id": "032e425e-c08c-4030-a556-32024e7253ec",
   "metadata": {},
   "outputs": [],
   "source": []
  }
 ],
 "metadata": {
  "kernelspec": {
   "display_name": "Python [conda env:base] *",
   "language": "python",
   "name": "conda-base-py"
  },
  "language_info": {
   "codemirror_mode": {
    "name": "ipython",
    "version": 3
   },
   "file_extension": ".py",
   "mimetype": "text/x-python",
   "name": "python",
   "nbconvert_exporter": "python",
   "pygments_lexer": "ipython3",
   "version": "3.12.7"
  }
 },
 "nbformat": 4,
 "nbformat_minor": 5
}
